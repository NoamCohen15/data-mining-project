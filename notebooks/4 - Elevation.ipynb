{
 "cells": [
  {
   "cell_type": "code",
   "execution_count": 2,
   "id": "18d5e7fe",
   "metadata": {},
   "outputs": [],
   "source": [
    "import requests\n",
    "import urllib\n",
    "import urllib3\n",
    "import pandas as pd\n",
    "import json"
   ]
  },
  {
   "cell_type": "code",
   "execution_count": 10,
   "id": "24be884d",
   "metadata": {},
   "outputs": [],
   "source": [
    "# https://stackoverflow.com/questions/58350063/obtain-elevation-from-latitude-longitude-coordinates-with-a-simple-python-script\n",
    "\n",
    "def make_remote_request(url: str, params: dict) -> json:\n",
    "        \"\"\"\n",
    "        Makes the remote request\n",
    "        Continues making attempts until it succeeds\n",
    "        \"\"\"\n",
    "\n",
    "        count = 1\n",
    "        while True:\n",
    "            try:\n",
    "                response = requests.get((url + urllib.parse.urlencode(params)))\n",
    "            except (OSError, urllib3.exceptions.ProtocolError) as error:\n",
    "                print('\\n')\n",
    "                print('*' * 20, 'Error Occured', '*' * 20)\n",
    "                print(f'Number of tries: {count}')\n",
    "                print(f'URL: {url}')\n",
    "                print(error)\n",
    "                print('\\n')\n",
    "                count += 1\n",
    "                continue\n",
    "            break\n",
    "\n",
    "        return response\n",
    "\n",
    "    \n",
    "def elevation_function(x) -> float:\n",
    "        '''\n",
    "        Assumes x contain valid latitude and longitude coordinate.\n",
    "        :param x: x[0] - latitude, x[1] - latitude.\n",
    "        :return: The elevation at the given coordinates.\n",
    "        '''\n",
    "        url = 'https://nationalmap.gov/epqs/pqs.php?'\n",
    "        params = {'x': x[1],\n",
    "                  'y': x[0],\n",
    "                  'units': 'Meters',\n",
    "                  'output': 'json'}\n",
    "        result = make_remote_request(url, params)\n",
    "        return result.json()['USGS_Elevation_Point_Query_Service']['Elevation_Query']['Elevation']"
   ]
  },
  {
   "cell_type": "code",
   "execution_count": null,
   "id": "13147f0d",
   "metadata": {},
   "outputs": [],
   "source": [
    "import sqlite3\n",
    "import pandas as pd\n",
    "\n",
    "conn = sqlite3.connect('FPA_FOD_20170508.sqlite')\n",
    "df = pd.read_sql_query(\"SELECT * from Fires\", conn)"
   ]
  },
  {
   "cell_type": "code",
   "execution_count": 14,
   "id": "4f0d43ed",
   "metadata": {},
   "outputs": [
    {
     "data": {
      "text/plain": [
       "0     924.73\n",
       "1    1831.26\n",
       "2    1048.65\n",
       "3    2361.86\n",
       "4    2309.84\n",
       "dtype: float64"
      ]
     },
     "execution_count": 14,
     "metadata": {},
     "output_type": "execute_result"
    }
   ],
   "source": [
    "df[[\"LATITUDE\", \"LONGITUDE\"]][:5].apply(elevation_function, axis=1)"
   ]
  },
  {
   "cell_type": "code",
   "execution_count": null,
   "id": "e6e07c16",
   "metadata": {},
   "outputs": [],
   "source": [
    "# takes a lot of time\n",
    "elevation = df[[\"LATITUDE\", \"LONGITUDE\"]].apply(elevation_function, axis=1)"
   ]
  },
  {
   "cell_type": "code",
   "execution_count": 21,
   "id": "77e40d6e",
   "metadata": {},
   "outputs": [
    {
     "data": {
      "text/html": [
       "<div>\n",
       "<style scoped>\n",
       "    .dataframe tbody tr th:only-of-type {\n",
       "        vertical-align: middle;\n",
       "    }\n",
       "\n",
       "    .dataframe tbody tr th {\n",
       "        vertical-align: top;\n",
       "    }\n",
       "\n",
       "    .dataframe thead th {\n",
       "        text-align: right;\n",
       "    }\n",
       "</style>\n",
       "<table border=\"1\" class=\"dataframe\">\n",
       "  <thead>\n",
       "    <tr style=\"text-align: right;\">\n",
       "      <th></th>\n",
       "      <th>ELEVATION</th>\n",
       "    </tr>\n",
       "  </thead>\n",
       "  <tbody>\n",
       "    <tr>\n",
       "      <th>0</th>\n",
       "      <td>924.73</td>\n",
       "    </tr>\n",
       "    <tr>\n",
       "      <th>1</th>\n",
       "      <td>1831.26</td>\n",
       "    </tr>\n",
       "    <tr>\n",
       "      <th>2</th>\n",
       "      <td>1048.65</td>\n",
       "    </tr>\n",
       "    <tr>\n",
       "      <th>3</th>\n",
       "      <td>2361.86</td>\n",
       "    </tr>\n",
       "    <tr>\n",
       "      <th>4</th>\n",
       "      <td>2309.84</td>\n",
       "    </tr>\n",
       "    <tr>\n",
       "      <th>...</th>\n",
       "      <td>...</td>\n",
       "    </tr>\n",
       "    <tr>\n",
       "      <th>1880460</th>\n",
       "      <td>214.46</td>\n",
       "    </tr>\n",
       "    <tr>\n",
       "      <th>1880461</th>\n",
       "      <td>18.29</td>\n",
       "    </tr>\n",
       "    <tr>\n",
       "      <th>1880462</th>\n",
       "      <td>18.29</td>\n",
       "    </tr>\n",
       "    <tr>\n",
       "      <th>1880463</th>\n",
       "      <td>39.29</td>\n",
       "    </tr>\n",
       "    <tr>\n",
       "      <th>1880464</th>\n",
       "      <td>2054.05</td>\n",
       "    </tr>\n",
       "  </tbody>\n",
       "</table>\n",
       "<p>1880465 rows × 1 columns</p>\n",
       "</div>"
      ],
      "text/plain": [
       "        ELEVATION\n",
       "0          924.73\n",
       "1         1831.26\n",
       "2         1048.65\n",
       "3         2361.86\n",
       "4         2309.84\n",
       "...           ...\n",
       "1880460    214.46\n",
       "1880461     18.29\n",
       "1880462     18.29\n",
       "1880463     39.29\n",
       "1880464   2054.05\n",
       "\n",
       "[1880465 rows x 1 columns]"
      ]
     },
     "execution_count": 21,
     "metadata": {},
     "output_type": "execute_result"
    }
   ],
   "source": [
    "elevation = pd.DataFrame(elevation, columns={\"ELEVATION\"})\n",
    "elevation"
   ]
  },
  {
   "cell_type": "code",
   "execution_count": 22,
   "id": "33fc57ba",
   "metadata": {},
   "outputs": [],
   "source": [
    "# save to use later\n",
    "elevation.to_csv(\"elevation.csv\")"
   ]
  },
  {
   "cell_type": "code",
   "execution_count": null,
   "id": "09e2c83a",
   "metadata": {},
   "outputs": [],
   "source": []
  }
 ],
 "metadata": {
  "kernelspec": {
   "display_name": "Python 3 (ipykernel)",
   "language": "python",
   "name": "python3"
  },
  "language_info": {
   "codemirror_mode": {
    "name": "ipython",
    "version": 3
   },
   "file_extension": ".py",
   "mimetype": "text/x-python",
   "name": "python",
   "nbconvert_exporter": "python",
   "pygments_lexer": "ipython3",
   "version": "3.9.7"
  }
 },
 "nbformat": 4,
 "nbformat_minor": 5
}
