{
 "cells": [
  {
   "cell_type": "code",
   "execution_count": 1,
   "id": "0b462649",
   "metadata": {},
   "outputs": [],
   "source": [
    "import sqlite3\n",
    "import pandas as pd\n",
    "import numpy as np\n",
    "import seaborn as sns\n",
    "from matplotlib import pyplot as plt"
   ]
  },
  {
   "cell_type": "code",
   "execution_count": 2,
   "id": "7f09e9a0",
   "metadata": {},
   "outputs": [],
   "source": [
    "conn = sqlite3.connect('FPA_FOD_20170508.sqlite')\n",
    "df = pd.read_sql_query(\"SELECT * from Fires\", conn)"
   ]
  },
  {
   "cell_type": "code",
   "execution_count": 3,
   "id": "fa1e1126",
   "metadata": {},
   "outputs": [
    {
     "data": {
      "text/html": [
       "<div>\n",
       "<style scoped>\n",
       "    .dataframe tbody tr th:only-of-type {\n",
       "        vertical-align: middle;\n",
       "    }\n",
       "\n",
       "    .dataframe tbody tr th {\n",
       "        vertical-align: top;\n",
       "    }\n",
       "\n",
       "    .dataframe thead th {\n",
       "        text-align: right;\n",
       "    }\n",
       "</style>\n",
       "<table border=\"1\" class=\"dataframe\">\n",
       "  <thead>\n",
       "    <tr style=\"text-align: right;\">\n",
       "      <th></th>\n",
       "      <th>OBJECTID</th>\n",
       "      <th>FOD_ID</th>\n",
       "      <th>FPA_ID</th>\n",
       "      <th>SOURCE_SYSTEM_TYPE</th>\n",
       "      <th>SOURCE_SYSTEM</th>\n",
       "      <th>NWCG_REPORTING_AGENCY</th>\n",
       "      <th>NWCG_REPORTING_UNIT_ID</th>\n",
       "      <th>NWCG_REPORTING_UNIT_NAME</th>\n",
       "      <th>SOURCE_REPORTING_UNIT</th>\n",
       "      <th>SOURCE_REPORTING_UNIT_NAME</th>\n",
       "      <th>...</th>\n",
       "      <th>FIRE_SIZE_CLASS</th>\n",
       "      <th>LATITUDE</th>\n",
       "      <th>LONGITUDE</th>\n",
       "      <th>OWNER_CODE</th>\n",
       "      <th>OWNER_DESCR</th>\n",
       "      <th>STATE</th>\n",
       "      <th>COUNTY</th>\n",
       "      <th>FIPS_CODE</th>\n",
       "      <th>FIPS_NAME</th>\n",
       "      <th>Shape</th>\n",
       "    </tr>\n",
       "  </thead>\n",
       "  <tbody>\n",
       "    <tr>\n",
       "      <th>0</th>\n",
       "      <td>1</td>\n",
       "      <td>1</td>\n",
       "      <td>FS-1418826</td>\n",
       "      <td>FED</td>\n",
       "      <td>FS-FIRESTAT</td>\n",
       "      <td>FS</td>\n",
       "      <td>USCAPNF</td>\n",
       "      <td>Plumas National Forest</td>\n",
       "      <td>0511</td>\n",
       "      <td>Plumas National Forest</td>\n",
       "      <td>...</td>\n",
       "      <td>A</td>\n",
       "      <td>40.036944</td>\n",
       "      <td>-121.005833</td>\n",
       "      <td>5.0</td>\n",
       "      <td>USFS</td>\n",
       "      <td>CA</td>\n",
       "      <td>63</td>\n",
       "      <td>063</td>\n",
       "      <td>Plumas</td>\n",
       "      <td>b'\\x00\\x01\\xad\\x10\\x00\\x00\\xe8d\\xc2\\x92_@^\\xc0...</td>\n",
       "    </tr>\n",
       "    <tr>\n",
       "      <th>1</th>\n",
       "      <td>2</td>\n",
       "      <td>2</td>\n",
       "      <td>FS-1418827</td>\n",
       "      <td>FED</td>\n",
       "      <td>FS-FIRESTAT</td>\n",
       "      <td>FS</td>\n",
       "      <td>USCAENF</td>\n",
       "      <td>Eldorado National Forest</td>\n",
       "      <td>0503</td>\n",
       "      <td>Eldorado National Forest</td>\n",
       "      <td>...</td>\n",
       "      <td>A</td>\n",
       "      <td>38.933056</td>\n",
       "      <td>-120.404444</td>\n",
       "      <td>5.0</td>\n",
       "      <td>USFS</td>\n",
       "      <td>CA</td>\n",
       "      <td>61</td>\n",
       "      <td>061</td>\n",
       "      <td>Placer</td>\n",
       "      <td>b'\\x00\\x01\\xad\\x10\\x00\\x00T\\xb6\\xeej\\xe2\\x19^\\...</td>\n",
       "    </tr>\n",
       "    <tr>\n",
       "      <th>2</th>\n",
       "      <td>3</td>\n",
       "      <td>3</td>\n",
       "      <td>FS-1418835</td>\n",
       "      <td>FED</td>\n",
       "      <td>FS-FIRESTAT</td>\n",
       "      <td>FS</td>\n",
       "      <td>USCAENF</td>\n",
       "      <td>Eldorado National Forest</td>\n",
       "      <td>0503</td>\n",
       "      <td>Eldorado National Forest</td>\n",
       "      <td>...</td>\n",
       "      <td>A</td>\n",
       "      <td>38.984167</td>\n",
       "      <td>-120.735556</td>\n",
       "      <td>13.0</td>\n",
       "      <td>STATE OR PRIVATE</td>\n",
       "      <td>CA</td>\n",
       "      <td>17</td>\n",
       "      <td>017</td>\n",
       "      <td>El Dorado</td>\n",
       "      <td>b'\\x00\\x01\\xad\\x10\\x00\\x00\\xd0\\xa5\\xa0W\\x13/^\\...</td>\n",
       "    </tr>\n",
       "    <tr>\n",
       "      <th>3</th>\n",
       "      <td>4</td>\n",
       "      <td>4</td>\n",
       "      <td>FS-1418845</td>\n",
       "      <td>FED</td>\n",
       "      <td>FS-FIRESTAT</td>\n",
       "      <td>FS</td>\n",
       "      <td>USCAENF</td>\n",
       "      <td>Eldorado National Forest</td>\n",
       "      <td>0503</td>\n",
       "      <td>Eldorado National Forest</td>\n",
       "      <td>...</td>\n",
       "      <td>A</td>\n",
       "      <td>38.559167</td>\n",
       "      <td>-119.913333</td>\n",
       "      <td>5.0</td>\n",
       "      <td>USFS</td>\n",
       "      <td>CA</td>\n",
       "      <td>3</td>\n",
       "      <td>003</td>\n",
       "      <td>Alpine</td>\n",
       "      <td>b'\\x00\\x01\\xad\\x10\\x00\\x00\\x94\\xac\\xa3\\rt\\xfa]...</td>\n",
       "    </tr>\n",
       "    <tr>\n",
       "      <th>4</th>\n",
       "      <td>5</td>\n",
       "      <td>5</td>\n",
       "      <td>FS-1418847</td>\n",
       "      <td>FED</td>\n",
       "      <td>FS-FIRESTAT</td>\n",
       "      <td>FS</td>\n",
       "      <td>USCAENF</td>\n",
       "      <td>Eldorado National Forest</td>\n",
       "      <td>0503</td>\n",
       "      <td>Eldorado National Forest</td>\n",
       "      <td>...</td>\n",
       "      <td>A</td>\n",
       "      <td>38.559167</td>\n",
       "      <td>-119.933056</td>\n",
       "      <td>5.0</td>\n",
       "      <td>USFS</td>\n",
       "      <td>CA</td>\n",
       "      <td>3</td>\n",
       "      <td>003</td>\n",
       "      <td>Alpine</td>\n",
       "      <td>b'\\x00\\x01\\xad\\x10\\x00\\x00@\\xe3\\xaa.\\xb7\\xfb]\\...</td>\n",
       "    </tr>\n",
       "  </tbody>\n",
       "</table>\n",
       "<p>5 rows × 39 columns</p>\n",
       "</div>"
      ],
      "text/plain": [
       "   OBJECTID  FOD_ID      FPA_ID SOURCE_SYSTEM_TYPE SOURCE_SYSTEM  \\\n",
       "0         1       1  FS-1418826                FED   FS-FIRESTAT   \n",
       "1         2       2  FS-1418827                FED   FS-FIRESTAT   \n",
       "2         3       3  FS-1418835                FED   FS-FIRESTAT   \n",
       "3         4       4  FS-1418845                FED   FS-FIRESTAT   \n",
       "4         5       5  FS-1418847                FED   FS-FIRESTAT   \n",
       "\n",
       "  NWCG_REPORTING_AGENCY NWCG_REPORTING_UNIT_ID  NWCG_REPORTING_UNIT_NAME  \\\n",
       "0                    FS                USCAPNF    Plumas National Forest   \n",
       "1                    FS                USCAENF  Eldorado National Forest   \n",
       "2                    FS                USCAENF  Eldorado National Forest   \n",
       "3                    FS                USCAENF  Eldorado National Forest   \n",
       "4                    FS                USCAENF  Eldorado National Forest   \n",
       "\n",
       "  SOURCE_REPORTING_UNIT SOURCE_REPORTING_UNIT_NAME  ... FIRE_SIZE_CLASS  \\\n",
       "0                  0511     Plumas National Forest  ...               A   \n",
       "1                  0503   Eldorado National Forest  ...               A   \n",
       "2                  0503   Eldorado National Forest  ...               A   \n",
       "3                  0503   Eldorado National Forest  ...               A   \n",
       "4                  0503   Eldorado National Forest  ...               A   \n",
       "\n",
       "    LATITUDE   LONGITUDE OWNER_CODE       OWNER_DESCR STATE COUNTY FIPS_CODE  \\\n",
       "0  40.036944 -121.005833        5.0              USFS    CA     63       063   \n",
       "1  38.933056 -120.404444        5.0              USFS    CA     61       061   \n",
       "2  38.984167 -120.735556       13.0  STATE OR PRIVATE    CA     17       017   \n",
       "3  38.559167 -119.913333        5.0              USFS    CA      3       003   \n",
       "4  38.559167 -119.933056        5.0              USFS    CA      3       003   \n",
       "\n",
       "   FIPS_NAME                                              Shape  \n",
       "0     Plumas  b'\\x00\\x01\\xad\\x10\\x00\\x00\\xe8d\\xc2\\x92_@^\\xc0...  \n",
       "1     Placer  b'\\x00\\x01\\xad\\x10\\x00\\x00T\\xb6\\xeej\\xe2\\x19^\\...  \n",
       "2  El Dorado  b'\\x00\\x01\\xad\\x10\\x00\\x00\\xd0\\xa5\\xa0W\\x13/^\\...  \n",
       "3     Alpine  b'\\x00\\x01\\xad\\x10\\x00\\x00\\x94\\xac\\xa3\\rt\\xfa]...  \n",
       "4     Alpine  b'\\x00\\x01\\xad\\x10\\x00\\x00@\\xe3\\xaa.\\xb7\\xfb]\\...  \n",
       "\n",
       "[5 rows x 39 columns]"
      ]
     },
     "execution_count": 3,
     "metadata": {},
     "output_type": "execute_result"
    }
   ],
   "source": [
    "df.head(5)"
   ]
  },
  {
   "cell_type": "code",
   "execution_count": 4,
   "id": "1c8dbdfb",
   "metadata": {},
   "outputs": [],
   "source": [
    "features_to_remove = []"
   ]
  },
  {
   "cell_type": "code",
   "execution_count": 5,
   "id": "16522866",
   "metadata": {},
   "outputs": [],
   "source": [
    "def not_removed_features():\n",
    "    return sorted(set(df.keys()) - set(features_to_remove))"
   ]
  },
  {
   "cell_type": "markdown",
   "id": "0efdf1e5",
   "metadata": {},
   "source": [
    "# check null values"
   ]
  },
  {
   "cell_type": "code",
   "execution_count": 7,
   "id": "03df2dc0",
   "metadata": {},
   "outputs": [],
   "source": [
    "nulls = df.isnull().sum() / df.shape[0]"
   ]
  },
  {
   "cell_type": "code",
   "execution_count": 8,
   "id": "87ca9936",
   "metadata": {},
   "outputs": [
    {
     "data": {
      "text/plain": [
       "OBJECTID                      0.000000\n",
       "STATE                         0.000000\n",
       "OWNER_DESCR                   0.000000\n",
       "OWNER_CODE                    0.000000\n",
       "LONGITUDE                     0.000000\n",
       "LATITUDE                      0.000000\n",
       "FIRE_SIZE_CLASS               0.000000\n",
       "FIRE_SIZE                     0.000000\n",
       "STAT_CAUSE_DESCR              0.000000\n",
       "STAT_CAUSE_CODE               0.000000\n",
       "DISCOVERY_DOY                 0.000000\n",
       "DISCOVERY_DATE                0.000000\n",
       "FIRE_YEAR                     0.000000\n",
       "Shape                         0.000000\n",
       "FOD_ID                        0.000000\n",
       "FPA_ID                        0.000000\n",
       "SOURCE_SYSTEM_TYPE            0.000000\n",
       "SOURCE_SYSTEM                 0.000000\n",
       "SOURCE_REPORTING_UNIT_NAME    0.000000\n",
       "SOURCE_REPORTING_UNIT         0.000000\n",
       "NWCG_REPORTING_AGENCY         0.000000\n",
       "NWCG_REPORTING_UNIT_ID        0.000000\n",
       "NWCG_REPORTING_UNIT_NAME      0.000000\n",
       "FIPS_CODE                     0.360628\n",
       "COUNTY                        0.360628\n",
       "FIPS_NAME                     0.360628\n",
       "LOCAL_INCIDENT_ID             0.436499\n",
       "DISCOVERY_TIME                0.469372\n",
       "CONT_DATE                     0.474101\n",
       "CONT_DOY                      0.474101\n",
       "FIRE_NAME                     0.509017\n",
       "CONT_TIME                     0.516985\n",
       "LOCAL_FIRE_REPORT_ID          0.776024\n",
       "FIRE_CODE                     0.827261\n",
       "ICS_209_NAME                  0.986324\n",
       "ICS_209_INCIDENT_NUMBER       0.986324\n",
       "MTBS_FIRE_NAME                0.994149\n",
       "MTBS_ID                       0.994149\n",
       "COMPLEX_NAME                  0.997244\n",
       "dtype: float64"
      ]
     },
     "execution_count": 8,
     "metadata": {},
     "output_type": "execute_result"
    }
   ],
   "source": [
    "nulls.sort_values() "
   ]
  },
  {
   "cell_type": "markdown",
   "id": "3b620a00",
   "metadata": {},
   "source": [
    "**No nulls in the targets: STAT_CAUSE_DESCR, STAT_CAUSE_DESCR**"
   ]
  },
  {
   "cell_type": "code",
   "execution_count": 9,
   "id": "a7bb830d",
   "metadata": {},
   "outputs": [
    {
     "data": {
      "text/plain": [
       "Index(['LOCAL_FIRE_REPORT_ID', 'FIRE_CODE', 'ICS_209_INCIDENT_NUMBER',\n",
       "       'ICS_209_NAME', 'MTBS_ID', 'MTBS_FIRE_NAME', 'COMPLEX_NAME'],\n",
       "      dtype='object')"
      ]
     },
     "execution_count": 9,
     "metadata": {},
     "output_type": "execute_result"
    }
   ],
   "source": [
    "thresh = 0.7\n",
    "more_than_thresh_null = nulls[nulls.sort_values() > thresh].keys()\n",
    "more_than_thresh_null"
   ]
  },
  {
   "cell_type": "code",
   "execution_count": 10,
   "id": "802762ab",
   "metadata": {},
   "outputs": [],
   "source": [
    "# add them to 'features_to_remove'\n",
    "features_to_remove.extend(list(more_than_thresh_null))"
   ]
  },
  {
   "cell_type": "code",
   "execution_count": 11,
   "id": "6965808a",
   "metadata": {},
   "outputs": [
    {
     "data": {
      "text/plain": [
       "OBJECTID                      0.000000\n",
       "STATE                         0.000000\n",
       "OWNER_DESCR                   0.000000\n",
       "OWNER_CODE                    0.000000\n",
       "LONGITUDE                     0.000000\n",
       "LATITUDE                      0.000000\n",
       "FIRE_SIZE_CLASS               0.000000\n",
       "FIRE_SIZE                     0.000000\n",
       "STAT_CAUSE_DESCR              0.000000\n",
       "STAT_CAUSE_CODE               0.000000\n",
       "DISCOVERY_DOY                 0.000000\n",
       "DISCOVERY_DATE                0.000000\n",
       "Shape                         0.000000\n",
       "NWCG_REPORTING_UNIT_ID        0.000000\n",
       "SOURCE_REPORTING_UNIT_NAME    0.000000\n",
       "SOURCE_REPORTING_UNIT         0.000000\n",
       "FOD_ID                        0.000000\n",
       "NWCG_REPORTING_UNIT_NAME      0.000000\n",
       "FIRE_YEAR                     0.000000\n",
       "NWCG_REPORTING_AGENCY         0.000000\n",
       "SOURCE_SYSTEM                 0.000000\n",
       "SOURCE_SYSTEM_TYPE            0.000000\n",
       "FPA_ID                        0.000000\n",
       "FIPS_NAME                     0.360628\n",
       "FIPS_CODE                     0.360628\n",
       "COUNTY                        0.360628\n",
       "LOCAL_INCIDENT_ID             0.436499\n",
       "DISCOVERY_TIME                0.469372\n",
       "CONT_DOY                      0.474101\n",
       "CONT_DATE                     0.474101\n",
       "FIRE_NAME                     0.509017\n",
       "CONT_TIME                     0.516985\n",
       "dtype: float64"
      ]
     },
     "execution_count": 11,
     "metadata": {},
     "output_type": "execute_result"
    }
   ],
   "source": [
    "nulls = nulls.drop(more_than_thresh_null)\n",
    "nulls.sort_values()"
   ]
  },
  {
   "cell_type": "markdown",
   "id": "b2c1f386",
   "metadata": {},
   "source": [
    "Not rellevant features for data exploration, identifires/ external DB identifires/ other:\n",
    "1. OBJECTID = Global unique identifier.\n",
    "2. Shape = used to plot the fire polygon on map.\n",
    "3. FOD_ID = Global unique identifier.\n",
    "4. SOURCE_SYSTEM_TYPE = Type of source database or system that the record was drawn from (federal, nonfederal, or interagency).\n",
    "5. SOURCE_SYSTEM = Name of or other identifier for source database or system that the record was drawn from. See Table 1 in Short (2014), or \\Supplements\\FPAFODsourcelist.pdf, for a list of sources and their identifier.\n",
    "6. FPA_ID = Unique identifier that contains information necessary to track back to the original record in the source dataset.\n",
    "7. LOCAL_INCIDENT_ID =  Number or code that uniquely identifies an incident for a particular local fire management organization within a particular calendar year."
   ]
  },
  {
   "cell_type": "code",
   "execution_count": 12,
   "id": "5092a103",
   "metadata": {},
   "outputs": [],
   "source": [
    "to_drop = [\"OBJECTID\", \"Shape\", \"FOD_ID\", \"SOURCE_SYSTEM_TYPE\", \"SOURCE_SYSTEM\", \"FPA_ID\", \"LOCAL_INCIDENT_ID\"]\n",
    "features_to_remove.extend(to_drop)"
   ]
  },
  {
   "cell_type": "code",
   "execution_count": 13,
   "id": "596c4800",
   "metadata": {},
   "outputs": [
    {
     "data": {
      "text/plain": [
       "NWCG_REPORTING_AGENCY         0.000000\n",
       "FIRE_SIZE                     0.000000\n",
       "LONGITUDE                     0.000000\n",
       "OWNER_CODE                    0.000000\n",
       "OWNER_DESCR                   0.000000\n",
       "STAT_CAUSE_DESCR              0.000000\n",
       "STAT_CAUSE_CODE               0.000000\n",
       "STATE                         0.000000\n",
       "DISCOVERY_DOY                 0.000000\n",
       "DISCOVERY_DATE                0.000000\n",
       "FIRE_YEAR                     0.000000\n",
       "SOURCE_REPORTING_UNIT_NAME    0.000000\n",
       "SOURCE_REPORTING_UNIT         0.000000\n",
       "NWCG_REPORTING_UNIT_NAME      0.000000\n",
       "NWCG_REPORTING_UNIT_ID        0.000000\n",
       "FIRE_SIZE_CLASS               0.000000\n",
       "LATITUDE                      0.000000\n",
       "COUNTY                        0.360628\n",
       "FIPS_NAME                     0.360628\n",
       "FIPS_CODE                     0.360628\n",
       "DISCOVERY_TIME                0.469372\n",
       "CONT_DOY                      0.474101\n",
       "CONT_DATE                     0.474101\n",
       "FIRE_NAME                     0.509017\n",
       "CONT_TIME                     0.516985\n",
       "dtype: float64"
      ]
     },
     "execution_count": 13,
     "metadata": {},
     "output_type": "execute_result"
    }
   ],
   "source": [
    "nulls = nulls.drop(to_drop)\n",
    "nulls.sort_values()"
   ]
  },
  {
   "cell_type": "code",
   "execution_count": 14,
   "id": "736f68cc",
   "metadata": {},
   "outputs": [
    {
     "data": {
      "text/plain": [
       "['CONT_DATE',\n",
       " 'CONT_DOY',\n",
       " 'CONT_TIME',\n",
       " 'COUNTY',\n",
       " 'DISCOVERY_DATE',\n",
       " 'DISCOVERY_DOY',\n",
       " 'DISCOVERY_TIME',\n",
       " 'FIPS_CODE',\n",
       " 'FIPS_NAME',\n",
       " 'FIRE_NAME',\n",
       " 'FIRE_SIZE',\n",
       " 'FIRE_SIZE_CLASS',\n",
       " 'FIRE_YEAR',\n",
       " 'LATITUDE',\n",
       " 'LONGITUDE',\n",
       " 'NWCG_REPORTING_AGENCY',\n",
       " 'NWCG_REPORTING_UNIT_ID',\n",
       " 'NWCG_REPORTING_UNIT_NAME',\n",
       " 'OWNER_CODE',\n",
       " 'OWNER_DESCR',\n",
       " 'SOURCE_REPORTING_UNIT',\n",
       " 'SOURCE_REPORTING_UNIT_NAME',\n",
       " 'STATE',\n",
       " 'STAT_CAUSE_CODE',\n",
       " 'STAT_CAUSE_DESCR']"
      ]
     },
     "execution_count": 14,
     "metadata": {},
     "output_type": "execute_result"
    }
   ],
   "source": [
    "not_removed_features()"
   ]
  },
  {
   "cell_type": "markdown",
   "id": "ff354845",
   "metadata": {},
   "source": [
    "## NWCG features\n",
    "1. NWCG_REPORTING_AGENCY = Active National Wildlife Coordinating Group (NWCG) Unit Identifier for the agency preparing the fire report (BIA = Bureau of Indian Affairs, BLM = Bureau of Land Management, BOR = Bureau of Reclamation, DOD = Department of Defense, DOE = Department of Energy, FS = Forest Service, FWS = Fish and Wildlife Service, IA = Interagency Organization, NPS = National Park Service, ST/C&L = State, County, or Local Organization, and TRIBE = Tribal Organization).\n",
    "2. NWCG_REPORTING_UNIT_NAME =  Active NWCG Unit Name for the unit preparing the fire report.\n",
    "3. NWCG_REPORTING_UNIT_ID = Active NWCG Unit Identifier for the unit preparing the fire report<br>\n",
    "<br>\n",
    "**NWCG_REPORTING_UNIT_NAME** and **NWCG_REPORTING_UNIT_ID** are *contained* in **NWCG_REPORTING_AGENCY** so we will use and anlayze only **NWCG_REPORTING_AGENCY**."
   ]
  },
  {
   "cell_type": "code",
   "execution_count": 15,
   "id": "aaeac806",
   "metadata": {},
   "outputs": [],
   "source": [
    "features_to_remove.extend(['NWCG_REPORTING_UNIT_NAME' , \"NWCG_REPORTING_UNIT_ID\"])"
   ]
  },
  {
   "cell_type": "markdown",
   "id": "c8ac9eff",
   "metadata": {},
   "source": [
    "### check if NWCG_REPORTING_AGENCY is useful"
   ]
  },
  {
   "cell_type": "code",
   "execution_count": 16,
   "id": "68ffb2bd",
   "metadata": {},
   "outputs": [
    {
     "data": {
      "text/plain": [
       "11"
      ]
     },
     "execution_count": 16,
     "metadata": {},
     "output_type": "execute_result"
    }
   ],
   "source": [
    "len(df.NWCG_REPORTING_AGENCY.unique())"
   ]
  },
  {
   "cell_type": "markdown",
   "id": "762673c9",
   "metadata": {},
   "source": [
    "A lot of values, we will analyze the most common."
   ]
  },
  {
   "cell_type": "code",
   "execution_count": 17,
   "id": "c5f650c1",
   "metadata": {},
   "outputs": [
    {
     "data": {
      "text/plain": [
       "ST/C&L    1377090\n",
       "FS         220497\n",
       "BIA        119943\n",
       "BLM         97034\n",
       "IA          21841\n",
       "NPS         20893\n",
       "FWS         19331\n",
       "TRIBE        3739\n",
       "DOD            81\n",
       "BOR            14\n",
       "DOE             2\n",
       "Name: NWCG_REPORTING_AGENCY, dtype: int64"
      ]
     },
     "execution_count": 17,
     "metadata": {},
     "output_type": "execute_result"
    }
   ],
   "source": [
    "NWCG_REPORTING_AGENCY_val_counts = df.NWCG_REPORTING_AGENCY.value_counts()\n",
    "NWCG_REPORTING_AGENCY_val_counts"
   ]
  },
  {
   "cell_type": "code",
   "execution_count": 18,
   "id": "66b9dcad",
   "metadata": {},
   "outputs": [
    {
     "data": {
      "image/png": "[encoded data removed]",
      "text/plain": [
       "<Figure size 1440x936 with 1 Axes>"
      ]
     },
     "metadata": {
      "needs_background": "light"
     },
     "output_type": "display_data"
    }
   ],
   "source": [
    "plt.figure(figsize=(20,13))\n",
    "sns.countplot(x=\"NWCG_REPORTING_AGENCY\", hue=\"STAT_CAUSE_DESCR\", data=df)\n",
    "plt.xticks(rotation=90)\n",
    "plt.show()"
   ]
  },
  {
   "cell_type": "markdown",
   "id": "00768599",
   "metadata": {},
   "source": [
    "can use 4 dummies ST/C&L, FS, BIA, BLM."
   ]
  },
  {
   "cell_type": "markdown",
   "id": "4dbf0b3e",
   "metadata": {},
   "source": [
    "# End check if NWCG_REPORTING_AGENCY is useful"
   ]
  },
  {
   "cell_type": "code",
   "execution_count": 143,
   "id": "267cf6a6",
   "metadata": {},
   "outputs": [
    {
     "data": {
      "text/plain": [
       "['CONT_DATE',\n",
       " 'CONT_DOY',\n",
       " 'CONT_TIME',\n",
       " 'COUNTY',\n",
       " 'DISCOVERY_DATE',\n",
       " 'DISCOVERY_DOY',\n",
       " 'DISCOVERY_TIME',\n",
       " 'FIPS_CODE',\n",
       " 'FIPS_NAME',\n",
       " 'FIRE_NAME',\n",
       " 'FIRE_SIZE',\n",
       " 'FIRE_SIZE_CLASS',\n",
       " 'FIRE_YEAR',\n",
       " 'LATITUDE',\n",
       " 'LONGITUDE',\n",
       " 'NWCG_REPORTING_AGENCY',\n",
       " 'OWNER_CODE',\n",
       " 'OWNER_DESCR',\n",
       " 'SOURCE_REPORTING_UNIT',\n",
       " 'SOURCE_REPORTING_UNIT_NAME',\n",
       " 'STATE',\n",
       " 'STAT_CAUSE_CODE',\n",
       " 'STAT_CAUSE_DESCR']"
      ]
     },
     "execution_count": 143,
     "metadata": {},
     "output_type": "execute_result"
    }
   ],
   "source": [
    "not_removed_features()"
   ]
  },
  {
   "cell_type": "markdown",
   "id": "85c6dacf",
   "metadata": {},
   "source": [
    "# Explore: SOURCE_REPORTING_UNIT_NAME, SOURCE_REPORTING_UNIT\n",
    "SOURCE_REPORTING_UNIT_NAME =  Code for the agency unit preparing the fire report, based on code/name in the source dataset.\n",
    "SOURCE_REPORTING_UNIT = Name of reporting agency unit preparing the fire report, based on code/name in the source dataset."
   ]
  },
  {
   "cell_type": "code",
   "execution_count": 92,
   "id": "ec7ce2c7",
   "metadata": {},
   "outputs": [
    {
     "data": {
      "text/plain": [
       "4992"
      ]
     },
     "execution_count": 92,
     "metadata": {},
     "output_type": "execute_result"
    }
   ],
   "source": [
    "len(df.SOURCE_REPORTING_UNIT.unique())"
   ]
  },
  {
   "cell_type": "markdown",
   "id": "bacc4f44",
   "metadata": {},
   "source": [
    "4992 unique values. not use it."
   ]
  },
  {
   "cell_type": "code",
   "execution_count": 144,
   "id": "92347fe3",
   "metadata": {},
   "outputs": [],
   "source": [
    "features_to_remove.extend([\"SOURCE_REPORTING_UNIT_NAME\", \"SOURCE_REPORTING_UNIT\"])"
   ]
  },
  {
   "cell_type": "code",
   "execution_count": 145,
   "id": "c1f26327",
   "metadata": {},
   "outputs": [
    {
     "data": {
      "text/plain": [
       "['CONT_DATE',\n",
       " 'CONT_DOY',\n",
       " 'CONT_TIME',\n",
       " 'COUNTY',\n",
       " 'DISCOVERY_DATE',\n",
       " 'DISCOVERY_DOY',\n",
       " 'DISCOVERY_TIME',\n",
       " 'FIPS_CODE',\n",
       " 'FIPS_NAME',\n",
       " 'FIRE_NAME',\n",
       " 'FIRE_SIZE',\n",
       " 'FIRE_SIZE_CLASS',\n",
       " 'FIRE_YEAR',\n",
       " 'LATITUDE',\n",
       " 'LONGITUDE',\n",
       " 'NWCG_REPORTING_AGENCY',\n",
       " 'OWNER_CODE',\n",
       " 'OWNER_DESCR',\n",
       " 'STATE',\n",
       " 'STAT_CAUSE_CODE',\n",
       " 'STAT_CAUSE_DESCR']"
      ]
     },
     "execution_count": 145,
     "metadata": {},
     "output_type": "execute_result"
    }
   ],
   "source": [
    "not_removed_features()"
   ]
  },
  {
   "cell_type": "markdown",
   "id": "52eeb519",
   "metadata": {},
   "source": [
    "# FIPS_CODE, FIPS_NAME, COUNTY, STATE\n",
    "1. COUNTY = County, or equivalent, in which the fire burned (or originated), based on nominal designation in the fire report.\n",
    "2. FIPS_CODE = Three-digit code from the Federal Information Process Standards (FIPS) publication 6-4 for representation of counties and equivalent entities.\n",
    "3. FIPS_NAME = County name from the FIPS publication 6-4 for representation of counties and equivalent entities.\n",
    "4. STATE = Two-letter alphabetic code for the state in which the fire burned (or originated), based on the nominal designation in the fire report.\n",
    "<br>\n",
    "<br>\n",
    "The first three are almost the same, and all contained in STATE, so we will use only STATE."
   ]
  },
  {
   "cell_type": "code",
   "execution_count": 117,
   "id": "20f411de",
   "metadata": {},
   "outputs": [
    {
     "data": {
      "text/plain": [
       "1699"
      ]
     },
     "execution_count": 117,
     "metadata": {},
     "output_type": "execute_result"
    }
   ],
   "source": [
    "len(df.FIPS_NAME.unique())"
   ]
  },
  {
   "cell_type": "code",
   "execution_count": 119,
   "id": "732743e6",
   "metadata": {},
   "outputs": [
    {
     "data": {
      "text/plain": [
       "52"
      ]
     },
     "execution_count": 119,
     "metadata": {},
     "output_type": "execute_result"
    }
   ],
   "source": [
    "len(df.STATE.unique())"
   ]
  },
  {
   "cell_type": "code",
   "execution_count": 122,
   "id": "3ce092c6",
   "metadata": {},
   "outputs": [
    {
     "data": {
      "text/plain": [
       "array(['AK', 'AL', 'AR', 'AZ', 'CA', 'CO', 'CT', 'DC', 'DE', 'FL', 'GA',\n",
       "       'HI', 'IA', 'ID', 'IL', 'IN', 'KS', 'KY', 'LA', 'MA', 'MD', 'ME',\n",
       "       'MI', 'MN', 'MO', 'MS', 'MT', 'NC', 'ND', 'NE', 'NH', 'NJ', 'NM',\n",
       "       'NV', 'NY', 'OH', 'OK', 'OR', 'PA', 'PR', 'RI', 'SC', 'SD', 'TN',\n",
       "       'TX', 'UT', 'VA', 'VT', 'WA', 'WI', 'WV', 'WY'], dtype='<U2')"
      ]
     },
     "execution_count": 122,
     "metadata": {},
     "output_type": "execute_result"
    }
   ],
   "source": [
    "np.array(sorted(df.STATE.unique()))"
   ]
  },
  {
   "cell_type": "code",
   "execution_count": 124,
   "id": "3faf95f4",
   "metadata": {},
   "outputs": [
    {
     "data": {
      "text/plain": [
       "0.0"
      ]
     },
     "execution_count": 124,
     "metadata": {},
     "output_type": "execute_result"
    }
   ],
   "source": [
    "nulls[\"STATE\"] # also no null values"
   ]
  },
  {
   "cell_type": "code",
   "execution_count": 146,
   "id": "5431df4d",
   "metadata": {},
   "outputs": [],
   "source": [
    "features_to_remove.extend([\"COUNTY\", \"FIPS_CODE\", \"FIPS_NAME\"])"
   ]
  },
  {
   "cell_type": "code",
   "execution_count": 147,
   "id": "6313ead7",
   "metadata": {},
   "outputs": [
    {
     "data": {
      "text/plain": [
       "['CONT_DATE',\n",
       " 'CONT_DOY',\n",
       " 'CONT_TIME',\n",
       " 'DISCOVERY_DATE',\n",
       " 'DISCOVERY_DOY',\n",
       " 'DISCOVERY_TIME',\n",
       " 'FIRE_NAME',\n",
       " 'FIRE_SIZE',\n",
       " 'FIRE_SIZE_CLASS',\n",
       " 'FIRE_YEAR',\n",
       " 'LATITUDE',\n",
       " 'LONGITUDE',\n",
       " 'NWCG_REPORTING_AGENCY',\n",
       " 'OWNER_CODE',\n",
       " 'OWNER_DESCR',\n",
       " 'STATE',\n",
       " 'STAT_CAUSE_CODE',\n",
       " 'STAT_CAUSE_DESCR']"
      ]
     },
     "execution_count": 147,
     "metadata": {},
     "output_type": "execute_result"
    }
   ],
   "source": [
    "not_removed_features()"
   ]
  },
  {
   "cell_type": "markdown",
   "id": "8c1225a4",
   "metadata": {},
   "source": [
    "# FIRE NAME, FIRE_SIZE_CLASS\n",
    "1. FIRE_NAME = Name of the incident, from the fire report (primary) or ICS-209 report (secondary).\n",
    "2. FIRE_SIZE_CLASS =  Code for fire size based on the number of acres within the final fire perimeter expenditures (A=greater than 0 but less than or equal to 0.25 acres, B=0.26-9.9 acres, C=10.0-99.9 acres, D=100-299 acres, E=300 to 999 acres, F=1000 to 4999 acres, and G=5000+ acres).\n",
    "<br>\n",
    "<br>\n",
    "FIRE_SIZE_CLASS - contained in FIRE_SIZE, we will use FIRE_SIZE since it is more accurate."
   ]
  },
  {
   "cell_type": "code",
   "execution_count": 150,
   "id": "cabb0d98",
   "metadata": {},
   "outputs": [
    {
     "data": {
      "text/plain": [
       "493634"
      ]
     },
     "execution_count": 150,
     "metadata": {},
     "output_type": "execute_result"
    }
   ],
   "source": [
    "len(df.FIRE_NAME.unique()) # too many values, also seems not relevant, remove it."
   ]
  },
  {
   "cell_type": "code",
   "execution_count": 151,
   "id": "3526294c",
   "metadata": {},
   "outputs": [],
   "source": [
    "features_to_remove.extend([\"FIRE_NAME\", \"FIRE_SIZE_CLASS\"])"
   ]
  },
  {
   "cell_type": "code",
   "execution_count": 153,
   "id": "1c65ae24",
   "metadata": {},
   "outputs": [
    {
     "data": {
      "text/plain": [
       "CONT_DATE                0.474101\n",
       "CONT_DOY                 0.474101\n",
       "CONT_TIME                0.516985\n",
       "DISCOVERY_DATE           0.000000\n",
       "DISCOVERY_DOY            0.000000\n",
       "DISCOVERY_TIME           0.469372\n",
       "FIRE_SIZE                0.000000\n",
       "FIRE_YEAR                0.000000\n",
       "LATITUDE                 0.000000\n",
       "LONGITUDE                0.000000\n",
       "NWCG_REPORTING_AGENCY    0.000000\n",
       "OWNER_CODE               0.000000\n",
       "OWNER_DESCR              0.000000\n",
       "STATE                    0.000000\n",
       "STAT_CAUSE_CODE          0.000000\n",
       "STAT_CAUSE_DESCR         0.000000\n",
       "dtype: float64"
      ]
     },
     "execution_count": 153,
     "metadata": {},
     "output_type": "execute_result"
    }
   ],
   "source": [
    "nulls[not_removed_features()]"
   ]
  },
  {
   "cell_type": "markdown",
   "id": "3ff5aa14",
   "metadata": {},
   "source": [
    "# OWNER_CODE, OWNER_DESCR\n",
    "1. OWNER_CODE = Code for primary owner or entity responsible for managing the land at the point of origin of the fire at the time of the incident.\n",
    "2. OWNER_DESCR = Name of primary owner or entity responsible for managing the land at the point of origin of the fire at the time of the incident."
   ]
  },
  {
   "cell_type": "code",
   "execution_count": 113,
   "id": "58d68d0b",
   "metadata": {},
   "outputs": [
    {
     "data": {
      "text/plain": [
       "16"
      ]
     },
     "execution_count": 113,
     "metadata": {},
     "output_type": "execute_result"
    }
   ],
   "source": [
    "len(df.OWNER_CODE.unique())"
   ]
  },
  {
   "cell_type": "code",
   "execution_count": 148,
   "id": "9322f385",
   "metadata": {},
   "outputs": [
    {
     "data": {
      "text/plain": [
       "16"
      ]
     },
     "execution_count": 148,
     "metadata": {},
     "output_type": "execute_result"
    }
   ],
   "source": [
    "len(df.OWNER_DESCR.unique())"
   ]
  },
  {
   "cell_type": "code",
   "execution_count": 160,
   "id": "7ca999cf",
   "metadata": {},
   "outputs": [
    {
     "data": {
      "text/plain": [
       "array(['USFS', 'STATE OR PRIVATE', 'MISSING/NOT SPECIFIED',\n",
       "       'OTHER FEDERAL', 'BIA', 'FWS', 'TRIBAL', 'PRIVATE', 'STATE', 'BLM',\n",
       "       'NPS', 'BOR', 'FOREIGN', 'MUNICIPAL/LOCAL', 'COUNTY',\n",
       "       'UNDEFINED FEDERAL'], dtype=object)"
      ]
     },
     "execution_count": 160,
     "metadata": {},
     "output_type": "execute_result"
    }
   ],
   "source": [
    "df.OWNER_DESCR.unique()"
   ]
  },
  {
   "cell_type": "code",
   "execution_count": 159,
   "id": "c99dd25f",
   "metadata": {},
   "outputs": [],
   "source": [
    "### check if OWNER_CODE is useful"
   ]
  },
  {
   "cell_type": "code",
   "execution_count": 161,
   "id": "380dc82f",
   "metadata": {},
   "outputs": [
    {
     "data": {
      "image/png": "[encoded data removed]",
      "text/plain": [
       "<Figure size 1440x936 with 1 Axes>"
      ]
     },
     "metadata": {
      "needs_background": "light"
     },
     "output_type": "display_data"
    }
   ],
   "source": [
    "plt.figure(figsize=(20,13))\n",
    "sns.countplot(x=\"OWNER_DESCR\", hue=\"STAT_CAUSE_DESCR\", data=df)\n",
    "plt.xticks(rotation=90)\n",
    "plt.show()"
   ]
  },
  {
   "cell_type": "code",
   "execution_count": 169,
   "id": "873f837b",
   "metadata": {},
   "outputs": [
    {
     "data": {
      "text/plain": [
       "MISSING/NOT SPECIFIED    0.558817\n",
       "PRIVATE                  0.167417\n",
       "USFS                     0.100155\n",
       "BIA                      0.056805\n",
       "STATE OR PRIVATE         0.038225\n",
       "BLM                      0.033650\n",
       "STATE                    0.016374\n",
       "NPS                      0.009319\n",
       "FWS                      0.006483\n",
       "TRIBAL                   0.004761\n",
       "OTHER FEDERAL            0.003431\n",
       "MUNICIPAL/LOCAL          0.002253\n",
       "UNDEFINED FEDERAL        0.001173\n",
       "COUNTY                   0.000979\n",
       "BOR                      0.000152\n",
       "FOREIGN                  0.000008\n",
       "Name: OWNER_DESCR, dtype: float64"
      ]
     },
     "execution_count": 169,
     "metadata": {},
     "output_type": "execute_result"
    }
   ],
   "source": [
    "df.OWNER_DESCR.value_counts() / df.shape[0]"
   ]
  },
  {
   "cell_type": "markdown",
   "id": "08511a66",
   "metadata": {},
   "source": [
    "We can see that there is owners that had some fires more than other fires,\n",
    "For example, \"USFS\" has more fires of type lighting, but \"PRIVATE\" has more fires of type Debris."
   ]
  },
  {
   "cell_type": "markdown",
   "id": "2d1aaac3",
   "metadata": {},
   "source": [
    "maybe we can use it as 3 features: \"MISSING/NOT SPECIFIED\"/ \"PRIVATE\"/ \"USFS\""
   ]
  },
  {
   "cell_type": "code",
   "execution_count": 170,
   "id": "9e0b42c6",
   "metadata": {},
   "outputs": [],
   "source": [
    "# we will use only the OWNER_DESCR\n",
    "features_to_remove.extend([\"OWNER_CODE\"])"
   ]
  },
  {
   "cell_type": "code",
   "execution_count": 172,
   "id": "8c7da2b4",
   "metadata": {},
   "outputs": [
    {
     "data": {
      "text/plain": [
       "CONT_DATE                0.474101\n",
       "CONT_DOY                 0.474101\n",
       "CONT_TIME                0.516985\n",
       "DISCOVERY_DATE           0.000000\n",
       "DISCOVERY_DOY            0.000000\n",
       "DISCOVERY_TIME           0.469372\n",
       "FIRE_SIZE                0.000000\n",
       "FIRE_YEAR                0.000000\n",
       "LATITUDE                 0.000000\n",
       "LONGITUDE                0.000000\n",
       "NWCG_REPORTING_AGENCY    0.000000\n",
       "OWNER_DESCR              0.000000\n",
       "STATE                    0.000000\n",
       "STAT_CAUSE_CODE          0.000000\n",
       "STAT_CAUSE_DESCR         0.000000\n",
       "dtype: float64"
      ]
     },
     "execution_count": 172,
     "metadata": {},
     "output_type": "execute_result"
    }
   ],
   "source": [
    "nulls[not_removed_features()]"
   ]
  },
  {
   "cell_type": "code",
   "execution_count": 173,
   "id": "906c73b2",
   "metadata": {},
   "outputs": [],
   "source": [
    "# features to use\n",
    "df_to_analyze = df[not_removed_features()]"
   ]
  },
  {
   "cell_type": "code",
   "execution_count": 174,
   "id": "c4b2f422",
   "metadata": {},
   "outputs": [
    {
     "data": {
      "text/html": [
       "<div>\n",
       "<style scoped>\n",
       "    .dataframe tbody tr th:only-of-type {\n",
       "        vertical-align: middle;\n",
       "    }\n",
       "\n",
       "    .dataframe tbody tr th {\n",
       "        vertical-align: top;\n",
       "    }\n",
       "\n",
       "    .dataframe thead th {\n",
       "        text-align: right;\n",
       "    }\n",
       "</style>\n",
       "<table border=\"1\" class=\"dataframe\">\n",
       "  <thead>\n",
       "    <tr style=\"text-align: right;\">\n",
       "      <th></th>\n",
       "      <th>CONT_DATE</th>\n",
       "      <th>CONT_DOY</th>\n",
       "      <th>CONT_TIME</th>\n",
       "      <th>DISCOVERY_DATE</th>\n",
       "      <th>DISCOVERY_DOY</th>\n",
       "      <th>DISCOVERY_TIME</th>\n",
       "      <th>FIRE_SIZE</th>\n",
       "      <th>FIRE_YEAR</th>\n",
       "      <th>LATITUDE</th>\n",
       "      <th>LONGITUDE</th>\n",
       "      <th>NWCG_REPORTING_AGENCY</th>\n",
       "      <th>OWNER_DESCR</th>\n",
       "      <th>STATE</th>\n",
       "      <th>STAT_CAUSE_CODE</th>\n",
       "      <th>STAT_CAUSE_DESCR</th>\n",
       "    </tr>\n",
       "  </thead>\n",
       "  <tbody>\n",
       "    <tr>\n",
       "      <th>0</th>\n",
       "      <td>2453403.5</td>\n",
       "      <td>33.0</td>\n",
       "      <td>1730</td>\n",
       "      <td>2453403.5</td>\n",
       "      <td>33</td>\n",
       "      <td>1300</td>\n",
       "      <td>0.10</td>\n",
       "      <td>2005</td>\n",
       "      <td>40.036944</td>\n",
       "      <td>-121.005833</td>\n",
       "      <td>FS</td>\n",
       "      <td>USFS</td>\n",
       "      <td>CA</td>\n",
       "      <td>9.0</td>\n",
       "      <td>Miscellaneous</td>\n",
       "    </tr>\n",
       "    <tr>\n",
       "      <th>1</th>\n",
       "      <td>2453137.5</td>\n",
       "      <td>133.0</td>\n",
       "      <td>1530</td>\n",
       "      <td>2453137.5</td>\n",
       "      <td>133</td>\n",
       "      <td>0845</td>\n",
       "      <td>0.25</td>\n",
       "      <td>2004</td>\n",
       "      <td>38.933056</td>\n",
       "      <td>-120.404444</td>\n",
       "      <td>FS</td>\n",
       "      <td>USFS</td>\n",
       "      <td>CA</td>\n",
       "      <td>1.0</td>\n",
       "      <td>Lightning</td>\n",
       "    </tr>\n",
       "    <tr>\n",
       "      <th>2</th>\n",
       "      <td>2453156.5</td>\n",
       "      <td>152.0</td>\n",
       "      <td>2024</td>\n",
       "      <td>2453156.5</td>\n",
       "      <td>152</td>\n",
       "      <td>1921</td>\n",
       "      <td>0.10</td>\n",
       "      <td>2004</td>\n",
       "      <td>38.984167</td>\n",
       "      <td>-120.735556</td>\n",
       "      <td>FS</td>\n",
       "      <td>STATE OR PRIVATE</td>\n",
       "      <td>CA</td>\n",
       "      <td>5.0</td>\n",
       "      <td>Debris Burning</td>\n",
       "    </tr>\n",
       "    <tr>\n",
       "      <th>3</th>\n",
       "      <td>2453189.5</td>\n",
       "      <td>185.0</td>\n",
       "      <td>1400</td>\n",
       "      <td>2453184.5</td>\n",
       "      <td>180</td>\n",
       "      <td>1600</td>\n",
       "      <td>0.10</td>\n",
       "      <td>2004</td>\n",
       "      <td>38.559167</td>\n",
       "      <td>-119.913333</td>\n",
       "      <td>FS</td>\n",
       "      <td>USFS</td>\n",
       "      <td>CA</td>\n",
       "      <td>1.0</td>\n",
       "      <td>Lightning</td>\n",
       "    </tr>\n",
       "    <tr>\n",
       "      <th>4</th>\n",
       "      <td>2453189.5</td>\n",
       "      <td>185.0</td>\n",
       "      <td>1200</td>\n",
       "      <td>2453184.5</td>\n",
       "      <td>180</td>\n",
       "      <td>1600</td>\n",
       "      <td>0.10</td>\n",
       "      <td>2004</td>\n",
       "      <td>38.559167</td>\n",
       "      <td>-119.933056</td>\n",
       "      <td>FS</td>\n",
       "      <td>USFS</td>\n",
       "      <td>CA</td>\n",
       "      <td>1.0</td>\n",
       "      <td>Lightning</td>\n",
       "    </tr>\n",
       "    <tr>\n",
       "      <th>...</th>\n",
       "      <td>...</td>\n",
       "      <td>...</td>\n",
       "      <td>...</td>\n",
       "      <td>...</td>\n",
       "      <td>...</td>\n",
       "      <td>...</td>\n",
       "      <td>...</td>\n",
       "      <td>...</td>\n",
       "      <td>...</td>\n",
       "      <td>...</td>\n",
       "      <td>...</td>\n",
       "      <td>...</td>\n",
       "      <td>...</td>\n",
       "      <td>...</td>\n",
       "      <td>...</td>\n",
       "    </tr>\n",
       "    <tr>\n",
       "      <th>1880460</th>\n",
       "      <td>2457291.5</td>\n",
       "      <td>269.0</td>\n",
       "      <td>1843</td>\n",
       "      <td>2457291.5</td>\n",
       "      <td>269</td>\n",
       "      <td>1726</td>\n",
       "      <td>0.01</td>\n",
       "      <td>2015</td>\n",
       "      <td>40.481637</td>\n",
       "      <td>-122.389375</td>\n",
       "      <td>ST/C&amp;L</td>\n",
       "      <td>STATE OR PRIVATE</td>\n",
       "      <td>CA</td>\n",
       "      <td>13.0</td>\n",
       "      <td>Missing/Undefined</td>\n",
       "    </tr>\n",
       "    <tr>\n",
       "      <th>1880461</th>\n",
       "      <td>NaN</td>\n",
       "      <td>NaN</td>\n",
       "      <td>None</td>\n",
       "      <td>2457300.5</td>\n",
       "      <td>278</td>\n",
       "      <td>0126</td>\n",
       "      <td>0.20</td>\n",
       "      <td>2015</td>\n",
       "      <td>37.617619</td>\n",
       "      <td>-120.938570</td>\n",
       "      <td>ST/C&amp;L</td>\n",
       "      <td>MUNICIPAL/LOCAL</td>\n",
       "      <td>CA</td>\n",
       "      <td>9.0</td>\n",
       "      <td>Miscellaneous</td>\n",
       "    </tr>\n",
       "    <tr>\n",
       "      <th>1880462</th>\n",
       "      <td>NaN</td>\n",
       "      <td>NaN</td>\n",
       "      <td>None</td>\n",
       "      <td>2457144.5</td>\n",
       "      <td>122</td>\n",
       "      <td>2052</td>\n",
       "      <td>0.10</td>\n",
       "      <td>2015</td>\n",
       "      <td>37.617619</td>\n",
       "      <td>-120.938570</td>\n",
       "      <td>ST/C&amp;L</td>\n",
       "      <td>MUNICIPAL/LOCAL</td>\n",
       "      <td>CA</td>\n",
       "      <td>13.0</td>\n",
       "      <td>Missing/Undefined</td>\n",
       "    </tr>\n",
       "    <tr>\n",
       "      <th>1880463</th>\n",
       "      <td>NaN</td>\n",
       "      <td>NaN</td>\n",
       "      <td>None</td>\n",
       "      <td>2457309.5</td>\n",
       "      <td>287</td>\n",
       "      <td>2309</td>\n",
       "      <td>2.00</td>\n",
       "      <td>2015</td>\n",
       "      <td>37.672235</td>\n",
       "      <td>-120.898356</td>\n",
       "      <td>ST/C&amp;L</td>\n",
       "      <td>MUNICIPAL/LOCAL</td>\n",
       "      <td>CA</td>\n",
       "      <td>13.0</td>\n",
       "      <td>Missing/Undefined</td>\n",
       "    </tr>\n",
       "    <tr>\n",
       "      <th>1880464</th>\n",
       "      <td>NaN</td>\n",
       "      <td>NaN</td>\n",
       "      <td>None</td>\n",
       "      <td>2457095.5</td>\n",
       "      <td>73</td>\n",
       "      <td>2128</td>\n",
       "      <td>0.10</td>\n",
       "      <td>2015</td>\n",
       "      <td>34.263217</td>\n",
       "      <td>-116.830950</td>\n",
       "      <td>ST/C&amp;L</td>\n",
       "      <td>STATE OR PRIVATE</td>\n",
       "      <td>CA</td>\n",
       "      <td>9.0</td>\n",
       "      <td>Miscellaneous</td>\n",
       "    </tr>\n",
       "  </tbody>\n",
       "</table>\n",
       "<p>1880465 rows × 15 columns</p>\n",
       "</div>"
      ],
      "text/plain": [
       "         CONT_DATE  CONT_DOY CONT_TIME  DISCOVERY_DATE  DISCOVERY_DOY  \\\n",
       "0        2453403.5      33.0      1730       2453403.5             33   \n",
       "1        2453137.5     133.0      1530       2453137.5            133   \n",
       "2        2453156.5     152.0      2024       2453156.5            152   \n",
       "3        2453189.5     185.0      1400       2453184.5            180   \n",
       "4        2453189.5     185.0      1200       2453184.5            180   \n",
       "...            ...       ...       ...             ...            ...   \n",
       "1880460  2457291.5     269.0      1843       2457291.5            269   \n",
       "1880461        NaN       NaN      None       2457300.5            278   \n",
       "1880462        NaN       NaN      None       2457144.5            122   \n",
       "1880463        NaN       NaN      None       2457309.5            287   \n",
       "1880464        NaN       NaN      None       2457095.5             73   \n",
       "\n",
       "        DISCOVERY_TIME  FIRE_SIZE  FIRE_YEAR   LATITUDE   LONGITUDE  \\\n",
       "0                 1300       0.10       2005  40.036944 -121.005833   \n",
       "1                 0845       0.25       2004  38.933056 -120.404444   \n",
       "2                 1921       0.10       2004  38.984167 -120.735556   \n",
       "3                 1600       0.10       2004  38.559167 -119.913333   \n",
       "4                 1600       0.10       2004  38.559167 -119.933056   \n",
       "...                ...        ...        ...        ...         ...   \n",
       "1880460           1726       0.01       2015  40.481637 -122.389375   \n",
       "1880461           0126       0.20       2015  37.617619 -120.938570   \n",
       "1880462           2052       0.10       2015  37.617619 -120.938570   \n",
       "1880463           2309       2.00       2015  37.672235 -120.898356   \n",
       "1880464           2128       0.10       2015  34.263217 -116.830950   \n",
       "\n",
       "        NWCG_REPORTING_AGENCY       OWNER_DESCR STATE  STAT_CAUSE_CODE  \\\n",
       "0                          FS              USFS    CA              9.0   \n",
       "1                          FS              USFS    CA              1.0   \n",
       "2                          FS  STATE OR PRIVATE    CA              5.0   \n",
       "3                          FS              USFS    CA              1.0   \n",
       "4                          FS              USFS    CA              1.0   \n",
       "...                       ...               ...   ...              ...   \n",
       "1880460                ST/C&L  STATE OR PRIVATE    CA             13.0   \n",
       "1880461                ST/C&L   MUNICIPAL/LOCAL    CA              9.0   \n",
       "1880462                ST/C&L   MUNICIPAL/LOCAL    CA             13.0   \n",
       "1880463                ST/C&L   MUNICIPAL/LOCAL    CA             13.0   \n",
       "1880464                ST/C&L  STATE OR PRIVATE    CA              9.0   \n",
       "\n",
       "          STAT_CAUSE_DESCR  \n",
       "0            Miscellaneous  \n",
       "1                Lightning  \n",
       "2           Debris Burning  \n",
       "3                Lightning  \n",
       "4                Lightning  \n",
       "...                    ...  \n",
       "1880460  Missing/Undefined  \n",
       "1880461      Miscellaneous  \n",
       "1880462  Missing/Undefined  \n",
       "1880463  Missing/Undefined  \n",
       "1880464      Miscellaneous  \n",
       "\n",
       "[1880465 rows x 15 columns]"
      ]
     },
     "execution_count": 174,
     "metadata": {},
     "output_type": "execute_result"
    }
   ],
   "source": [
    "df_to_analyze"
   ]
  },
  {
   "cell_type": "code",
   "execution_count": 175,
   "id": "a2a94a6c",
   "metadata": {},
   "outputs": [],
   "source": [
    "df_to_analyze.to_csv(\"df_to_analyze.csv\")"
   ]
  }
 ],
 "metadata": {
  "kernelspec": {
   "display_name": "Python 3 (ipykernel)",
   "language": "python",
   "name": "python3"
  },
  "language_info": {
   "codemirror_mode": {
    "name": "ipython",
    "version": 3
   },
   "file_extension": ".py",
   "mimetype": "text/x-python",
   "name": "python",
   "nbconvert_exporter": "python",
   "pygments_lexer": "ipython3",
   "version": "3.9.7"
  }
 },
 "nbformat": 4,
 "nbformat_minor": 5
}
